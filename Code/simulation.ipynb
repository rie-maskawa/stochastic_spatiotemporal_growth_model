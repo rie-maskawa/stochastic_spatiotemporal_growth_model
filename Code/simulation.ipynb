{
 "cells": [
  {
   "cell_type": "markdown",
   "metadata": {},
   "source": [
    "# Stochastic spatio-temporal growth model"
   ]
  },
  {
   "cell_type": "code",
   "execution_count": 34,
   "metadata": {},
   "outputs": [],
   "source": [
    "import numpy as np\n",
    "import pandas as pd\n",
    "from scipy.optimize import fsolve"
   ]
  },
  {
   "cell_type": "markdown",
   "metadata": {},
   "source": [
    "## Simulation"
   ]
  },
  {
   "cell_type": "markdown",
   "metadata": {},
   "source": [
    "### Three-value model\n",
    "$$\n",
    "g = \\begin{cases}\n",
    "1/2~~\\text{with probability}~~p_{1/2}\\\\\n",
    "1~~\\text{with probability}~~p_{1}\\\\\n",
    "2~~\\text{with probability}~~p_{2}\n",
    "\\end{cases}\n",
    "$$"
   ]
  },
  {
   "cell_type": "code",
   "execution_count": 11,
   "metadata": {},
   "outputs": [],
   "source": [
    "# Parameters\n",
    "dp = 1000000\n",
    "alpha = 0.7\n",
    "p_down = 0.2\n",
    "p_up = p_down * (1 - 2**(-alpha)) / (2**alpha - 1)\n",
    "p_stay = 1 - p_down - p_up\n",
    "values = [1/2, 1, 2]\n",
    "probabilities = [p_down, p_stay, p_up]\n",
    "M = 1000  # spatial corse-grainig parameter\n",
    "tau = 30  # temporal corse-grainig parameter\n",
    "S = 1000  # number of species\n",
    "c = 1  # external force\n",
    "seed = 0\n",
    "T = dp * tau\n",
    "\n",
    "# Set random seed\n",
    "rng = np.random.default_rng(seed=seed)\n",
    "\n",
    "# Initialize variables\n",
    "current = rng.integers(1, 10, size=(S, M)) # initial abundance at each site for each species\n",
    "N = np.zeros((S, dp)) # time series of coarse-grained abundance for each species\n",
    "N[:, 0] = np.sum(current, axis=1) # initial coarse-grained abundance for each species\n",
    "\n",
    "# Time evolution loop\n",
    "for t in range(1, dp):\n",
    "    # Sample growth rates and calculate abundance\n",
    "    g = rng.choice(values, size=(S, M, tau), p=probabilities)\n",
    "    current = current * np.prod(g, axis=2) + c * np.sum(np.cumprod(g[:, :, 1:][:, :, ::-1], axis=2), axis=2) + c\n",
    "    N[:, t] = np.sum(current, axis=1)\n",
    "\n",
    "# Compute growth rates\n",
    "G = N[:, 1:] / N[:, :-1]"
   ]
  },
  {
   "cell_type": "markdown",
   "metadata": {},
   "source": [
    "### Log-uniform model\n",
    "$$\n",
    "p(g) = \\begin{cases}\n",
    "\\frac{1}{g\\cdot \\ln \\left( g_{max}/g_{min}\\right)}~~\\text{for}~~g_{min}\\leq g \\leq g_{max}\\\\\n",
    "0~~\\text{otherwise}\n",
    "\\end{cases}\n",
    "$$"
   ]
  },
  {
   "cell_type": "code",
   "execution_count": 33,
   "metadata": {},
   "outputs": [],
   "source": [
    "def equation(b):\n",
    "    return (np.exp((b+e)*alpha)-np.exp((-b+e)*alpha))/(2*b*alpha) - 1\n",
    "\n",
    "def log_uniform(low, high, size):\n",
    "    return np.exp(np.random.uniform(np.log(low), np.log(high), size))\n",
    "\n",
    "# Parameters\n",
    "dp = 1000000\n",
    "alpha = 0.7\n",
    "e = -0.1\n",
    "initial_guess = 1.0\n",
    "b = fsolve(equation, initial_guess)[0]\n",
    "low = np.exp(-b + e)  # lower bound\n",
    "high = np.exp(b + e)  # upper bound\n",
    "M = 1000  # spatial corse-grainig parameter\n",
    "tau = 30  # temporal corse-grainig parameter\n",
    "S = 1000  # number of species\n",
    "c = 1  # external force\n",
    "seed = 0\n",
    "T = dp * tau\n",
    "\n",
    "# Set random seed\n",
    "rng = np.random.default_rng(seed=seed)\n",
    "\n",
    "# Initialize variables\n",
    "current = rng.integers(1, 10, size=(S, M)) # initial abundance at each site for each species\n",
    "N = np.zeros((S, dp)) # time series of coarse-grained abundance for each species\n",
    "N[:, 0] = np.sum(current, axis=1) # initial coarse-grained abundance for each species\n",
    "\n",
    "# Time evolution loop\n",
    "for t in range(1, dp):\n",
    "    # Sample growth rates and calculate abundance\n",
    "    g = log_uniform(low, high, size=(S, M, tau))\n",
    "    current = current * np.prod(g, axis=2) + c * np.sum(np.cumprod(g[:, :, 1:][:, :, ::-1], axis=2), axis=2) + c\n",
    "    N[:, t] = np.sum(current, axis=1)\n",
    "\n",
    "# Compute growth rates\n",
    "G = N[:, 1:] / N[:, :-1]"
   ]
  },
  {
   "cell_type": "markdown",
   "metadata": {},
   "source": [
    "### Binary model\n",
    "$$\n",
    "g = \\begin{cases}\n",
    "g_-~~\\text{with probability}~~1/2\\\\\n",
    "g_+~~\\text{with probability}~~1/2\\\\\n",
    "\\end{cases}\n",
    "$$"
   ]
  },
  {
   "cell_type": "code",
   "execution_count": 18,
   "metadata": {},
   "outputs": [],
   "source": [
    "# Parameters\n",
    "dp = 1000000\n",
    "alpha = 0.7\n",
    "p0 = 1/2\n",
    "p1 = 1/2\n",
    "gamma = 3\n",
    "g0 = (2/(1+gamma**alpha))**(1/alpha)\n",
    "g1 = gamma*g0\n",
    "values = [g0, g1]\n",
    "probabilities=[p0, p1]\n",
    "M = 1000  # spatial corse-grainig parameter\n",
    "tau = 30  # temporal corse-grainig parameter\n",
    "S = 1000  # number of species\n",
    "c = 1  # external force\n",
    "seed = 0\n",
    "T = dp * tau\n",
    "\n",
    "# Set random seed\n",
    "rng = np.random.default_rng(seed=seed)\n",
    "\n",
    "# Initialize variables\n",
    "current = rng.integers(1, 10, size=(S, M)) # initial abundance at each site for each species\n",
    "N = np.zeros((S, dp)) # time series of coarse-grained abundance for each species\n",
    "N[:, 0] = np.sum(current, axis=1) # initial coarse-grained abundance for each species\n",
    "\n",
    "# Time evolution loop\n",
    "for t in range(1, dp):\n",
    "    # Sample growth rates and calculate abundance\n",
    "    g = rng.choice(values, size=(S, M, tau), p=probabilities)\n",
    "    current = current * np.prod(g, axis=2) + c * np.sum(np.cumprod(g[:, :, 1:][:, :, ::-1], axis=2), axis=2) + c\n",
    "    N[:, t] = np.sum(current, axis=1)\n",
    "\n",
    "# Compute growth rates\n",
    "G = N[:, 1:] / N[:, :-1]"
   ]
  },
  {
   "cell_type": "markdown",
   "metadata": {},
   "source": [
    "## Spatial diffusion"
   ]
  },
  {
   "cell_type": "code",
   "execution_count": 42,
   "metadata": {},
   "outputs": [],
   "source": [
    "# Parameters\n",
    "dp = 3\n",
    "alpha = 0.7\n",
    "L = 100  # Grid size\n",
    "# Three-value model\n",
    "p0 = 0.2\n",
    "p2 = p0 * (1 - 2**(-alpha)) / (2**alpha - 1)\n",
    "p1 = 1 - p0 - p2\n",
    "values = [1/2, 1, 2]\n",
    "probabilities = [p0, p1, p2]\n",
    "c = 1  # External force\n",
    "d = 0.0001  # Diffusion coefficients\n",
    "seed = 0\n",
    "\n",
    "# Set random seed\n",
    "rng = np.random.default_rng(seed)\n",
    "\n",
    "# Initial values\n",
    "allxs = np.zeros((L * L, dp))\n",
    "allxs[:, 0] = np.random.randint(1,10,size=L*L)\n",
    "\n",
    "# Time evolution with or without diffusion\n",
    "for t in range(1, dp):\n",
    "    g = rng.choice(values, size=L * L, p=probabilities)\n",
    "    for i in range(L):\n",
    "        for j in range(L):\n",
    "            # Neighboring cells with periodic boundary conditions\n",
    "            ai, bj, ci, dj = i-1, j+1, i+1, j-1\n",
    "            ai, ci = ai % L, ci % L\n",
    "            bj, dj = bj % L, dj % L\n",
    "\n",
    "            # Update cell value with diffusion term\n",
    "            ind = i * L + j\n",
    "            ind_a, ind_b, ind_c, ind_d = ai * L + j, i * L + bj, ci * L + j, i * L + dj\n",
    "            allxs[ind, t] = ((1 - 4 * d) * allxs[ind, t - 1] + d * (allxs[ind_a, t - 1] + allxs[ind_b, t - 1] + allxs[ind_c, t - 1] + allxs[ind_d, t - 1])) * g[ind] + c\n"
   ]
  }
 ],
 "metadata": {
  "interpreter": {
   "hash": "235a579e41897f4d040957e399391eb4acaccb10e7414db53185899566bbb19c"
  },
  "kernelspec": {
   "display_name": "Python 3.8.13 ('base')",
   "language": "python",
   "name": "python3"
  },
  "language_info": {
   "codemirror_mode": {
    "name": "ipython",
    "version": 3
   },
   "file_extension": ".py",
   "mimetype": "text/x-python",
   "name": "python",
   "nbconvert_exporter": "python",
   "pygments_lexer": "ipython3",
   "version": "3.8.13"
  },
  "orig_nbformat": 4
 },
 "nbformat": 4,
 "nbformat_minor": 2
}
